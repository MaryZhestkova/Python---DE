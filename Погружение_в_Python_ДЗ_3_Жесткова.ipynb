{
  "nbformat": 4,
  "nbformat_minor": 0,
  "metadata": {
    "colab": {
      "provenance": [],
      "authorship_tag": "ABX9TyP0H547nDsMHBeCh7p08VqP",
      "include_colab_link": true
    },
    "kernelspec": {
      "name": "python3",
      "display_name": "Python 3"
    },
    "language_info": {
      "name": "python"
    }
  },
  "cells": [
    {
      "cell_type": "markdown",
      "metadata": {
        "id": "view-in-github",
        "colab_type": "text"
      },
      "source": [
        "<a href=\"https://colab.research.google.com/github/MaryZhestkova/Python---DE/blob/main/%D0%9F%D0%BE%D0%B3%D1%80%D1%83%D0%B6%D0%B5%D0%BD%D0%B8%D0%B5_%D0%B2_Python_%D0%94%D0%97_3_%D0%96%D0%B5%D1%81%D1%82%D0%BA%D0%BE%D0%B2%D0%B0.ipynb\" target=\"_parent\"><img src=\"https://colab.research.google.com/assets/colab-badge.svg\" alt=\"Open In Colab\"/></a>"
      ]
    },
    {
      "cell_type": "markdown",
      "source": [
        "##1.Дан список повторяющихся элементов. Вернуть список с дублирующимися элементами. В результирующем списке не должно быть дубликатов.\n"
      ],
      "metadata": {
        "id": "CZoMQ5h8hthH"
      }
    },
    {
      "cell_type": "code",
      "execution_count": 2,
      "metadata": {
        "colab": {
          "base_uri": "https://localhost:8080/"
        },
        "id": "Gii2ZasRhVVO",
        "outputId": "5d7b19d2-e984-4fb6-90ba-2cc842531ed4"
      },
      "outputs": [
        {
          "output_type": "stream",
          "name": "stdout",
          "text": [
            "[1, 2, 3]\n"
          ]
        }
      ],
      "source": [
        "def find_duplicates(input_list):\n",
        "    # Создаем множество для хранения уникальных элементов\n",
        "    seen = set()\n",
        "    # Создаем список для хранения дубликатов\n",
        "    duplicates = set()\n",
        "\n",
        "    for item in input_list:\n",
        "        # Если элемент уже был добавлен в 'seen', добавляем его в 'duplicates'\n",
        "        if item in seen:\n",
        "            duplicates.add(item)\n",
        "        else:\n",
        "            seen.add(item)\n",
        "    return list(duplicates)\n",
        "\n",
        "\n",
        "# Пример использования\n",
        "input_list = [1, 2, 3, 4, 2, 5, 3, 6, 1]\n",
        "result = find_duplicates(input_list)\n",
        "print(result)"
      ]
    },
    {
      "cell_type": "markdown",
      "source": [
        "##2. В большой текстовой строке подсчитать количество встречаемых слов и вернуть 10 самых частых. Не учитывать знаки препинания и регистр символов. За основу возьмите любую статью из википедии или из документации к языку."
      ],
      "metadata": {
        "id": "NPkXxH_Ph5Tn"
      }
    },
    {
      "cell_type": "code",
      "source": [
        "def most_common_words(text, n=10):\n",
        "    # Приводим текст к нижнему регистру и заменяем знаки препинания пробелами\n",
        "    text = text.lower()\n",
        "    for char in '.,!?;:\"()[]{}':\n",
        "        text = text.replace(char, ' ')\n",
        "\n",
        "    # Разбиваем текст на слова\n",
        "    words = text.split()\n",
        "\n",
        "    # Создаем словарь для подсчета слов\n",
        "    word_counts = {}\n",
        "\n",
        "    for word in words:\n",
        "        if word in word_counts:\n",
        "            word_counts[word] += 1\n",
        "        else:\n",
        "            word_counts[word] = 1\n",
        "\n",
        "    # Сортируем слова по количеству встречаемости\n",
        "    sorted_words = sorted(word_counts.items(), key=lambda item: item[1], reverse=True)\n",
        "\n",
        "    # Возвращаем n самых распространенных слов\n",
        "    return sorted_words[:n]\n",
        "\n",
        "# Пример текста\n",
        "text = \"\"\"\n",
        "Python - интерпретируемый язык программирования. С одной стороны, это позволяет значительно упростить отладку программ, с другой - обуславливает сравнительно низкую скорость выполнения.\n",
        "Динамическая типизация. В python не надо заранее объявлять тип переменной, что очень удобно при разработке.\n",
        "Хорошая поддержка модульности. Вы можете легко написать свой модуль и использовать его в других программах.\n",
        "Встроенная поддержка Unicode в строках. В Python необязательно писать всё на английском языке, в программах вполне может использоваться ваш родной язык.\n",
        "Поддержка объектно-ориентированного программирования. При этом его реализация в python является одной из самых понятных.\n",
        "Автоматическая сборка мусора, отсутствие утечек памяти.\n",
        "Интеграция с C/C++, если возможностей python недостаточно.\n",
        "Понятный и лаконичный синтаксис, способствующий ясному отображению кода. Удобная система функций позволяет при грамотном подходе создавать код, в котором будет легко разобраться другому человеку в случае необходимости. Также вы сможете научиться читать программы и модули, написанные другими людьми.\n",
        "Огромное количество модулей, как входящих в стандартную поставку Python 3, так и сторонних. В некоторых случаях для написания программы достаточно лишь найти подходящие модули и правильно их скомбинировать. Таким образом, вы можете думать о составлении программы на более высоком уровне, работая с уже готовыми элементами, выполняющими различные действия.\n",
        "Кроссплатформенность. Программа, написанная на Python, будет функционировать совершенно одинаково вне зависимости от того, в какой операционной системе она запущена. Отличия возникают лишь в редких случаях, и их легко заранее предусмотреть благодаря наличию подробной документации.\n",
        "\"\"\"\n",
        "\n",
        "# Получаем 10 самых частых слов\n",
        "result = most_common_words(text, 10)\n",
        "\n",
        "# Выводим результат\n",
        "for word, count in result:\n",
        "    print(f\"{word}: {count}\")"
      ],
      "metadata": {
        "colab": {
          "base_uri": "https://localhost:8080/"
        },
        "id": "4AVtb-UhSBXb",
        "outputId": "34224ad3-0c50-4b5a-83e1-71ab0c736b7a"
      },
      "execution_count": 3,
      "outputs": [
        {
          "output_type": "stream",
          "name": "stdout",
          "text": [
            "в: 12\n",
            "python: 7\n",
            "и: 6\n",
            "с: 4\n",
            "при: 3\n",
            "поддержка: 3\n",
            "вы: 3\n",
            "легко: 3\n",
            "на: 3\n",
            "программы: 3\n"
          ]
        }
      ]
    },
    {
      "cell_type": "markdown",
      "source": [
        "##3. Создайте словарь со списком вещей для похода в качестве ключа и их массой в качестве значения. Определите какие вещи влезут в рюкзак передав его максимальную грузоподъёмность. Достаточно вернуть один допустимый вариант"
      ],
      "metadata": {
        "id": "9nuw7v2lTgQb"
      }
    },
    {
      "cell_type": "code",
      "source": [
        "def pack_backpack(items, max_weight):\n",
        "    # Сортируем вещи по массе\n",
        "    sorted_items = sorted(items.items(), key=lambda item: item[1])\n",
        "\n",
        "    backpack = {}\n",
        "    current_weight = 0\n",
        "\n",
        "    for item, weight in sorted_items:\n",
        "        if current_weight + weight <= max_weight:\n",
        "            backpack[item] = weight\n",
        "            current_weight += weight\n",
        "\n",
        "    return backpack\n",
        "\n",
        "# Словарь с вещами и их массой\n",
        "items = {\n",
        "    'палатка': 2.5,\n",
        "    'спальный мешок': 1.5,\n",
        "    'фонарик': 0.5,\n",
        "    'еда': 3.0,\n",
        "    'вода': 1.0,\n",
        "    'аптечка': 0.7,\n",
        "    'карта': 0.2,\n",
        "    'теплая одежда': 1.0\n",
        "}\n",
        "\n",
        "# Максимальная грузоподъемность рюкзака\n",
        "max_weight = 5.0\n",
        "\n",
        "# Получаем вещи для рюкзака\n",
        "backpack_contents = pack_backpack(items, max_weight)\n",
        "\n",
        "# Выводим результат\n",
        "print(\"Вещи в рюкзаке:\")\n",
        "for item, weight in backpack_contents.items():\n",
        "    print(f\"{item}: {weight} кг\")\n"
      ],
      "metadata": {
        "colab": {
          "base_uri": "https://localhost:8080/"
        },
        "id": "fMOwtuikTf17",
        "outputId": "d45afd45-cc71-4a1a-faee-cec4fa74c9d3"
      },
      "execution_count": 5,
      "outputs": [
        {
          "output_type": "stream",
          "name": "stdout",
          "text": [
            "Вещи в рюкзаке:\n",
            "карта: 0.2 кг\n",
            "фонарик: 0.5 кг\n",
            "аптечка: 0.7 кг\n",
            "вода: 1.0 кг\n",
            "теплая одежда: 1.0 кг\n",
            "спальный мешок: 1.5 кг\n"
          ]
        }
      ]
    }
  ]
}