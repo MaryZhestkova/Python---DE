{
  "nbformat": 4,
  "nbformat_minor": 0,
  "metadata": {
    "colab": {
      "provenance": [],
      "authorship_tag": "ABX9TyNGm1Queyt7VmijS87bZzMv"
    },
    "kernelspec": {
      "name": "python3",
      "display_name": "Python 3"
    },
    "language_info": {
      "name": "python"
    }
  },
  "cells": [
    {
      "cell_type": "markdown",
      "source": [
        "##1.Треугольник существует только тогда, когда сумма любых двух его сторон больше третьей. Дано a, b, c - стороны предполагаемого треугольника. Требуется сравнить длину каждого отрезка-стороны с суммой двух других. Если хотя бы в одном случае отрезок окажется больше суммы двух других, то треугольника с такими сторонами не существует. Отдельно сообщить является ли треугольник разносторонним, равнобедренным или равносторонним.\n"
      ],
      "metadata": {
        "id": "CZoMQ5h8hthH"
      }
    },
    {
      "cell_type": "code",
      "execution_count": 11,
      "metadata": {
        "colab": {
          "base_uri": "https://localhost:8080/"
        },
        "id": "Gii2ZasRhVVO",
        "outputId": "d79075b0-bb44-40f4-e8d3-61bb943ae14d"
      },
      "outputs": [
        {
          "name": "stdout",
          "output_type": "stream",
          "text": [
            "Введите 1ю сторону треугольника: 10\n",
            "Введите 2ю сторону треугольника: 10\n",
            "Введите 3ю сторону треугольника: 10\n"
          ]
        }
      ],
      "source": [
        "a = int(input('Введите 1ю сторону треугольника: '))\n",
        "b = int(input('Введите 2ю сторону треугольника: '))\n",
        "c = int(input('Введите 3ю сторону треугольника: '))"
      ]
    },
    {
      "cell_type": "code",
      "source": [
        "if a + b < c or a + c < b or b + c < a:\n",
        "  res = \"Такого треугольника не существует!\"\n",
        "else:\n",
        "  if a == b == c:\n",
        "    res = \"Треугольник равносторонний\"\n",
        "  elif a == b or a == c or b == c:\n",
        "    res = 'Треугольник равнобедренный'\n",
        "  else:\n",
        "    res = 'Треугольник разносторонний'\n",
        "print(res)"
      ],
      "metadata": {
        "colab": {
          "base_uri": "https://localhost:8080/"
        },
        "id": "AYnKPl6zib47",
        "outputId": "1a9b6119-4247-4e19-d177-0009122037a4"
      },
      "execution_count": 29,
      "outputs": [
        {
          "output_type": "stream",
          "name": "stdout",
          "text": [
            "Треугольник равносторонний\n"
          ]
        }
      ]
    },
    {
      "cell_type": "markdown",
      "source": [
        "##2. Напишите код, который запрашивает число и сообщает является ли оно простым или составным. Используйте правило для проверки: “Число является простым, если делится нацело только на единицу и на себя”. Сделайте ограничение на ввод отрицательных чисел и чисел больше 100 тысяч."
      ],
      "metadata": {
        "id": "NPkXxH_Ph5Tn"
      }
    },
    {
      "cell_type": "code",
      "source": [
        "LOWER_LIMIT = 0\n",
        "UPPER_LIMIT = 100000\n",
        "n = int(input('Введите число от 0 до 100000: '))\n",
        "while n < LOWER_LIMIT or n > UPPER_LIMIT:\n",
        "  n = int(input('Введите число от 0 до 100000: '))\n",
        "count = 0\n",
        "for i in range (2, n):\n",
        "  if n % i == 0:\n",
        "    count += 1\n",
        "if count == 0:\n",
        "  res = f'Число {n} - простое'\n",
        "else:\n",
        "  res = f'Число {n} - составное'\n",
        "print(res)"
      ],
      "metadata": {
        "colab": {
          "base_uri": "https://localhost:8080/"
        },
        "id": "K_WMKgSDh8Sh",
        "outputId": "745ba1bb-a827-4faa-d14c-0d83077a9f44"
      },
      "execution_count": 28,
      "outputs": [
        {
          "output_type": "stream",
          "name": "stdout",
          "text": [
            "Введите число от 0 до 100000: 1009847\n",
            "Введите число от 0 до 100000: 13\n",
            "Число 13 - простое\n"
          ]
        }
      ]
    },
    {
      "cell_type": "markdown",
      "source": [
        "##3. Программа загадывает число от 0 до 1000. Необходимо угадать число за 10 попыток. Программа должна подсказывать “больше” или “меньше” после каждой попытки. Для генерации случайного числа используйте код:\n",
        "###*from random import randint*\n",
        "###*num = randint(LOWER_LIMIT, UPPER_LIMIT)*"
      ],
      "metadata": {
        "id": "Upw2Kx8-h85T"
      }
    },
    {
      "cell_type": "code",
      "source": [
        "from random import randint\n",
        "LOWER_LIMIT = 0\n",
        "UPPER_LIMIT = 1000\n",
        "ATTEMPTS = 10\n",
        "num = randint(LOWER_LIMIT, UPPER_LIMIT)\n",
        "res = f\"Не угадал! Загаданное число {num}\"\n",
        "for i in range(ATTEMPTS):\n",
        "  your_num = int(input('Введите число от 0 до 1000: '))\n",
        "  if your_num > num:\n",
        "    print(\"Меньше\")\n",
        "  elif your_num < num:\n",
        "    print(\"Больше\")\n",
        "  else:\n",
        "    res = f\"Ты победил! Загаданное число {num}\"\n",
        "    break\n",
        "print(res)"
      ],
      "metadata": {
        "colab": {
          "base_uri": "https://localhost:8080/"
        },
        "id": "vC3sdU6OnNFe",
        "outputId": "f104df47-aec6-44cf-a28c-5e95bc899b9c"
      },
      "execution_count": 38,
      "outputs": [
        {
          "output_type": "stream",
          "name": "stdout",
          "text": [
            "Введите число от 0 до 1000: 500\n",
            "Больше\n",
            "Введите число от 0 до 1000: 750\n",
            "Больше\n",
            "Введите число от 0 до 1000: 875\n",
            "Меньше\n",
            "Введите число от 0 до 1000: 825\n",
            "Больше\n",
            "Введите число от 0 до 1000: 850\n",
            "Больше\n",
            "Введите число от 0 до 1000: 863\n",
            "Больше\n",
            "Введите число от 0 до 1000: 869\n",
            "Меньше\n",
            "Введите число от 0 до 1000: 866\n",
            "Больше\n",
            "Введите число от 0 до 1000: 868\n",
            "Ты победил! Загаданное число 868\n"
          ]
        }
      ]
    },
    {
      "cell_type": "code",
      "source": [],
      "metadata": {
        "id": "A20IJH3zryW8"
      },
      "execution_count": null,
      "outputs": []
    }
  ]
}