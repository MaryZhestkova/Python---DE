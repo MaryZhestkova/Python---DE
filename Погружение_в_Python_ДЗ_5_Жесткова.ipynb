{
  "nbformat": 4,
  "nbformat_minor": 0,
  "metadata": {
    "colab": {
      "provenance": [],
      "authorship_tag": "ABX9TyNqKGcPCoTpc1b3INaV0DVI"
    },
    "kernelspec": {
      "name": "python3",
      "display_name": "Python 3"
    },
    "language_info": {
      "name": "python"
    }
  },
  "cells": [
    {
      "cell_type": "markdown",
      "source": [
        "##1.Напишите функцию, которая принимает на вход строку - абсолютный путь до файла. Функция возвращает кортеж из трёх элементов: путь, имя файла, расширение файла."
      ],
      "metadata": {
        "id": "CZoMQ5h8hthH"
      }
    },
    {
      "cell_type": "code",
      "execution_count": 3,
      "metadata": {
        "colab": {
          "base_uri": "https://localhost:8080/"
        },
        "id": "Gii2ZasRhVVO",
        "outputId": "9727c814-2a4f-4251-cdc3-34619b206f5e"
      },
      "outputs": [
        {
          "output_type": "stream",
          "name": "stdout",
          "text": [
            "('https://gbcdn.mrgcdn.ru/uploads/asset/5621428/attachment', '7bdcf2f77357029640e5a6faec8a8f78', 'zip')\n"
          ]
        }
      ],
      "source": [
        "def split_file_path(file_path):\n",
        "    path, file_name_with_extension = file_path.rsplit('/', 1) if '/' in file_path else ('', file_path)\n",
        "    file_name, file_extension = file_name_with_extension.rsplit('.', 1) if '.' in file_name_with_extension else (file_name_with_extension, '')\n",
        "    return path, file_name, f'{file_extension}' if file_extension else ''\n",
        "\n",
        "# Пример\n",
        "file_path = 'https://gbcdn.mrgcdn.ru/uploads/asset/5621428/attachment/7bdcf2f77357029640e5a6faec8a8f78.zip'\n",
        "result = split_file_path(file_path)\n",
        "print(result)"
      ]
    },
    {
      "cell_type": "markdown",
      "source": [
        "##2. Напишите однострочный генератор словаря, который принимает на вход три списка одинаковой длины: имена str, ставка int, премия str с указанием процентов вида “10.25%”. В результате получаем словарь с именем в качестве ключа и суммой премии в качестве значения. Сумма рассчитывается как ставка умноженная на процент премии"
      ],
      "metadata": {
        "id": "NPkXxH_Ph5Tn"
      }
    },
    {
      "cell_type": "code",
      "source": [
        "def calculate_bonus(names: str, rates: int, bonuses: str):\n",
        "    return {name: rate * (float(bonus[:-1]) / 100) for name, rate, bonus in zip(names, rates, bonuses)}\n",
        "\n",
        "# Пример\n",
        "names = ['Alice', 'Bob', 'Charlie']\n",
        "rates = [1000, 1500, 2000]\n",
        "bonuses = ['10.25%', '15%', '20%']\n",
        "\n",
        "result = calculate_bonus(names, rates, bonuses)\n",
        "print(result)"
      ],
      "metadata": {
        "colab": {
          "base_uri": "https://localhost:8080/"
        },
        "id": "4AVtb-UhSBXb",
        "outputId": "9178ea57-95fa-4176-ce46-3fb15b2d017f"
      },
      "execution_count": 4,
      "outputs": [
        {
          "output_type": "stream",
          "name": "stdout",
          "text": [
            "{'Alice': 102.5, 'Bob': 225.0, 'Charlie': 400.0}\n"
          ]
        }
      ]
    },
    {
      "cell_type": "markdown",
      "source": [
        "##3. Создайте функцию генератор чисел Фибоначчи"
      ],
      "metadata": {
        "id": "9nuw7v2lTgQb"
      }
    },
    {
      "cell_type": "code",
      "source": [
        "def fibonacci_generator():\n",
        "    a, b = 0, 1\n",
        "    while True:\n",
        "        yield a\n",
        "        a, b = b, a + b\n",
        "\n",
        "# Пример использования\n",
        "fib_gen = fibonacci_generator()\n",
        "\n",
        "for _ in range(10):\n",
        "    print(next(fib_gen))"
      ],
      "metadata": {
        "id": "fMOwtuikTf17",
        "colab": {
          "base_uri": "https://localhost:8080/"
        },
        "outputId": "8f5ea445-8021-4227-91a9-fb4d73953460"
      },
      "execution_count": 5,
      "outputs": [
        {
          "output_type": "stream",
          "name": "stdout",
          "text": [
            "0\n",
            "1\n",
            "1\n",
            "2\n",
            "3\n",
            "5\n",
            "8\n",
            "13\n",
            "21\n",
            "34\n"
          ]
        }
      ]
    }
  ]
}