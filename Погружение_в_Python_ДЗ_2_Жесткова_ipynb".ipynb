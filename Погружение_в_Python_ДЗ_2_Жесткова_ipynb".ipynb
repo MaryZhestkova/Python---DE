{
  "nbformat": 4,
  "nbformat_minor": 0,
  "metadata": {
    "colab": {
      "provenance": [],
      "authorship_tag": "ABX9TyMEGGx97rw34AX5zc4pb7wu",
      "include_colab_link": true
    },
    "kernelspec": {
      "name": "python3",
      "display_name": "Python 3"
    },
    "language_info": {
      "name": "python"
    }
  },
  "cells": [
    {
      "cell_type": "markdown",
      "metadata": {
        "id": "view-in-github",
        "colab_type": "text"
      },
      "source": [
        "<a href=\"https://colab.research.google.com/github/MaryZhestkova/Python---DE/blob/main/%D0%9F%D0%BE%D0%B3%D1%80%D1%83%D0%B6%D0%B5%D0%BD%D0%B8%D0%B5_%D0%B2_Python_%D0%94%D0%97_2_%D0%96%D0%B5%D1%81%D1%82%D0%BA%D0%BE%D0%B2%D0%B0_ipynb%22.ipynb\" target=\"_parent\"><img src=\"https://colab.research.google.com/assets/colab-badge.svg\" alt=\"Open In Colab\"/></a>"
      ]
    },
    {
      "cell_type": "markdown",
      "source": [
        "##1.Напишите программу, которая получает целое число и возвращает его шестнадцатеричное строковое представление. Функцию hex используйте для проверки своего результата.\n"
      ],
      "metadata": {
        "id": "CZoMQ5h8hthH"
      }
    },
    {
      "cell_type": "code",
      "execution_count": 3,
      "metadata": {
        "colab": {
          "base_uri": "https://localhost:8080/"
        },
        "id": "Gii2ZasRhVVO",
        "outputId": "f7618179-4d44-4591-d4ba-1595b2997eaf"
      },
      "outputs": [
        {
          "output_type": "stream",
          "name": "stdout",
          "text": [
            "Введите целое число: 132487\n",
            "Шестнадцатеричное представление: 20587\n",
            "Проверка с помощью функции hex: 20587\n"
          ]
        }
      ],
      "source": [
        "def int_to_hex(n):\n",
        "    # Проверяем, является ли число отрицательным\n",
        "    if n < 0:\n",
        "        return '-' + int_to_hex(-n)\n",
        "    hex_str = ''\n",
        "    hex_digits = '0123456789abcdef'\n",
        "    if n == 0:\n",
        "        return '0'\n",
        "    while n > 0:\n",
        "        remainder = n % 16\n",
        "        hex_str = hex_digits[remainder] + hex_str\n",
        "        n //= 16\n",
        "    return hex_str\n",
        "\n",
        "\n",
        "number = int(input(\"Введите целое число: \"))\n",
        "hex_representation = int_to_hex(number)\n",
        "print(f\"Шестнадцатеричное представление: {hex_representation}\")\n",
        "print(f\"Проверка с помощью функции hex: {hex(number)[2:]}\")"
      ]
    },
    {
      "cell_type": "markdown",
      "source": [
        "##2.Напишите программу, которая принимает две строки вида “a/b” - дробь с числителем и знаменателем. Программа должна возвращать сумму и произведение* дробей. Для проверки своего кода используйте модуль fractions"
      ],
      "metadata": {
        "id": "NPkXxH_Ph5Tn"
      }
    },
    {
      "cell_type": "code",
      "source": [
        "from fractions import Fraction\n",
        "\n",
        "def parse_fraction(fraction_str):\n",
        "    \"\"\"Парсит строку вида 'a/b' и возвращает дробь.\"\"\"\n",
        "    numerator, denominator = map(int, fraction_str.split('/'))\n",
        "    return Fraction(numerator, denominator)\n",
        "\n",
        "# Ввод двух дробей\n",
        "fraction1_str = input(\"Введите первую дробь (в формате a/b): \")\n",
        "fraction2_str = input(\"Введите вторую дробь (в формате a/b): \")\n",
        "\n",
        "# Парсим дроби\n",
        "fraction1 = parse_fraction(fraction1_str)\n",
        "fraction2 = parse_fraction(fraction2_str)\n",
        "\n",
        "# Считаем сумму и произведение дробей\n",
        "sum_result = fraction1 + fraction2\n",
        "product_result = fraction1 * fraction2\n",
        "\n",
        "# Выводим результаты\n",
        "print(f\"Сумма: {sum_result}, произведение: {product_result}\")\n",
        "\n",
        "# Для проверки с использованием модуля fractions\n",
        "print(f\"Проверка с использованием fractions:\")\n",
        "print(f\"Сумма: {Fraction(fraction1_str) + Fraction(fraction2_str)}, произведение: {Fraction(fraction1_str) * Fraction(fraction2_str)}\")"
      ],
      "metadata": {
        "colab": {
          "base_uri": "https://localhost:8080/"
        },
        "id": "K_WMKgSDh8Sh",
        "outputId": "545675db-bf85-462d-be45-81ae82c18f43"
      },
      "execution_count": 6,
      "outputs": [
        {
          "output_type": "stream",
          "name": "stdout",
          "text": [
            "Введите первую дробь (в формате a/b): 5/6\n",
            "Введите вторую дробь (в формате a/b): 1/3\n",
            "Сумма: 7/6, произведение: 5/18\n",
            "Проверка с использованием fractions:\n",
            "Сумма: 7/6, произведение: 5/18\n"
          ]
        }
      ]
    }
  ]
}