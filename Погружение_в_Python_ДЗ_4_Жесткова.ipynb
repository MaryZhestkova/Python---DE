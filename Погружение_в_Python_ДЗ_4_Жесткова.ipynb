{
  "nbformat": 4,
  "nbformat_minor": 0,
  "metadata": {
    "colab": {
      "provenance": [],
      "authorship_tag": "ABX9TyNshz26hHHpcv8vaBY1il1a",
      "include_colab_link": true
    },
    "kernelspec": {
      "name": "python3",
      "display_name": "Python 3"
    },
    "language_info": {
      "name": "python"
    }
  },
  "cells": [
    {
      "cell_type": "markdown",
      "metadata": {
        "id": "view-in-github",
        "colab_type": "text"
      },
      "source": [
        "<a href=\"https://colab.research.google.com/github/MaryZhestkova/Python---DE/blob/main/%D0%9F%D0%BE%D0%B3%D1%80%D1%83%D0%B6%D0%B5%D0%BD%D0%B8%D0%B5_%D0%B2_Python_%D0%94%D0%97_4_%D0%96%D0%B5%D1%81%D1%82%D0%BA%D0%BE%D0%B2%D0%B0.ipynb\" target=\"_parent\"><img src=\"https://colab.research.google.com/assets/colab-badge.svg\" alt=\"Open In Colab\"/></a>"
      ]
    },
    {
      "cell_type": "markdown",
      "source": [
        "##1.Напишите функцию для транспонирования матрицы"
      ],
      "metadata": {
        "id": "CZoMQ5h8hthH"
      }
    },
    {
      "cell_type": "code",
      "execution_count": 3,
      "metadata": {
        "colab": {
          "base_uri": "https://localhost:8080/"
        },
        "id": "Gii2ZasRhVVO",
        "outputId": "a8d52d3b-aeaf-4928-fa11-d520c4444d53"
      },
      "outputs": [
        {
          "output_type": "stream",
          "name": "stdout",
          "text": [
            "Исходная матрица:\n",
            "[1, 2, 3]\n",
            "[4, 5, 6]\n",
            "[7, 8, 9]\n",
            "\n",
            "Транспонированная матрица:\n",
            "[1, 4, 7]\n",
            "[2, 5, 8]\n",
            "[3, 6, 9]\n"
          ]
        }
      ],
      "source": [
        "def matrix_trans(matrix: list[tuple[int, ...]]) -> list[tuple[int, ...]]:\n",
        "    transposed = []\n",
        "    for i in range(len(matrix[0])):\n",
        "        new_row = []\n",
        "        for row in matrix:\n",
        "            new_row.append(row[i])\n",
        "        transposed.append(new_row)\n",
        "    return transposed\n",
        "\n",
        "\n",
        "matrix = [\n",
        "    [1, 2, 3],\n",
        "    [4, 5, 6],\n",
        "    [7, 8, 9]\n",
        "]\n",
        "\n",
        "transposed_matrix = matrix_trans(matrix)\n",
        "\n",
        "# Вывод результата\n",
        "print(\"Исходная матрица:\")\n",
        "for row in matrix:\n",
        "    print(row)\n",
        "\n",
        "print(\"\\nТранспонированная матрица:\")\n",
        "for row in transposed_matrix:\n",
        "    print(row)"
      ]
    },
    {
      "cell_type": "markdown",
      "source": [
        "##2. Напишите функцию принимающую на вход только ключевые параметры и возвращающую словарь, где ключ — значение переданного аргумента, а значение — имя аргумента. Если ключ не хешируем, используйте его строковое представление."
      ],
      "metadata": {
        "id": "NPkXxH_Ph5Tn"
      }
    },
    {
      "cell_type": "code",
      "source": [
        "def create_dict(**kwargs):\n",
        "    result = {}\n",
        "    for key, value in kwargs.items():\n",
        "        # Проверяем, можно ли использовать значение в качестве ключа\n",
        "        try:\n",
        "            # Если ключ хешируемый, добавляем его в словарь\n",
        "            result[value] = key\n",
        "        except TypeError:\n",
        "            # Если ключ не хешируемый, используем его строковое представление\n",
        "            result[str(value)] = key\n",
        "    return result\n",
        "\n",
        "\n",
        "result_dict = create_dict(a=1, b=[2, 3], c=(4, 5), d={6: 7})\n",
        "print(result_dict)"
      ],
      "metadata": {
        "colab": {
          "base_uri": "https://localhost:8080/"
        },
        "id": "4AVtb-UhSBXb",
        "outputId": "b987bb7e-9b3b-493a-9267-d0bb49a82cd9"
      },
      "execution_count": 4,
      "outputs": [
        {
          "output_type": "stream",
          "name": "stdout",
          "text": [
            "{1: 'a', '[2, 3]': 'b', (4, 5): 'c', '{6: 7}': 'd'}\n"
          ]
        }
      ]
    },
    {
      "cell_type": "markdown",
      "source": [
        "##3. Напишите программу банкомат\n",
        "- Начальная сумма равна нулю.\n",
        "- Допустимые действия: пополнить, снять и выйти.\n",
        "- Сумма пополнения и снятия кратны 50 у.е.\n",
        "- Процент за снятие - 1.5% от суммы снятия, но не менее 30 и не более 600 у.е.\n",
        "- После каждой третьей операции пополнения или снятия начисляются проценты - 3%.\n",
        "- Нельзя снять больше чем на счете.\n",
        "- При превышении суммы в 5 миллионов, вычитать налог на богатство 10% перед каждой операцией, даже ошибочной.\n",
        "- Любое действие выводит сумму денег.\n",
        "- Сохраняйте все операции поступления и снятия средств в список."
      ],
      "metadata": {
        "id": "9nuw7v2lTgQb"
      }
    },
    {
      "cell_type": "code",
      "source": [
        "balance = 0\n",
        "operations = []\n",
        "operation_count = 0\n",
        "\n",
        "\n",
        "def deposit(amount):\n",
        "    global balance, operations, operation_count\n",
        "    if amount % 50 != 0:\n",
        "        print(\"Сумма пополнения должна быть кратна 50 у.е.\")\n",
        "        return\n",
        "    balance += amount\n",
        "    operations.append(f\"Пополнение: +{amount} у.е.\")\n",
        "    operation_count += 1\n",
        "    check_interest()\n",
        "    check_wealth_tax()\n",
        "    display_balance()\n",
        "\n",
        "\n",
        "def withdraw(amount):\n",
        "    global balance, operations, operation_count\n",
        "    if amount % 50 != 0:\n",
        "        print(\"Сумма снятия должна быть кратна 50 у.е.\")\n",
        "        return\n",
        "    if amount > balance:\n",
        "        print(\"Недостаточно средств для снятия.\")\n",
        "        return\n",
        "\n",
        "    fee = calculate_withdrawal_fee(amount)\n",
        "    total_withdrawal = amount + fee\n",
        "\n",
        "    if total_withdrawal > balance:\n",
        "        print(\"Недостаточно средств для снятия с учетом комиссии.\")\n",
        "        return\n",
        "\n",
        "    balance -= total_withdrawal\n",
        "    operations.append(f\"Снятие: -{amount} у.е. (Комиссия: {fee} у.е.)\")\n",
        "    operation_count += 1\n",
        "    check_interest()\n",
        "    check_wealth_tax()\n",
        "    display_balance()\n",
        "\n",
        "\n",
        "def calculate_withdrawal_fee(amount):\n",
        "    return max(30, min(600, amount * 0.015))\n",
        "\n",
        "\n",
        "def check_interest():\n",
        "    global balance, operation_count\n",
        "    if operation_count % 3 == 0:\n",
        "        interest = balance * 0.03\n",
        "        balance += interest\n",
        "        operations.append(f\"Начислены проценты: +{interest:.2f} у.е.\")\n",
        "\n",
        "\n",
        "def check_wealth_tax():\n",
        "    global balance\n",
        "    if balance > 5000000:\n",
        "        tax = balance * 0.10\n",
        "        balance -= tax\n",
        "        operations.append(f\"Уплачен налог на богатство: -{tax:.2f} у.е.\")\n",
        "\n",
        "\n",
        "def display_balance():\n",
        "    print(f\"Текущий баланс: {balance:.2f} у.е.\")\n",
        "\n",
        "\n",
        "def show_operations():\n",
        "    print(\"Операции:\")\n",
        "    for operation in operations:\n",
        "        print(operation)\n",
        "\n",
        "\n",
        "# Пример использования функций\n",
        "while True:\n",
        "    action = input(\"Выберите действие: пополнить (d), снять (w), показать операции (s), выйти (q): \").lower()\n",
        "    if action == 'd':\n",
        "        amount = int(input(\"Введите сумму пополнения: \"))\n",
        "        deposit(amount)\n",
        "    elif action == 'w':\n",
        "        amount = int(input(\"Введите сумму снятия: \"))\n",
        "        withdraw(amount)\n",
        "    elif action == 's':\n",
        "        show_operations()\n",
        "    elif action == 'q':\n",
        "        print(\"Выход из программы.\")\n",
        "        break\n",
        "    else:\n",
        "        print(\"Неверное действие. Пожалуйста, попробуйте снова.\")"
      ],
      "metadata": {
        "id": "fMOwtuikTf17"
      },
      "execution_count": null,
      "outputs": []
    }
  ]
}